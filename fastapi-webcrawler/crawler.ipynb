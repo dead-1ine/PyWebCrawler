{
 "cells": [
  {
   "cell_type": "code",
   "execution_count": 1,
   "metadata": {
    "collapsed": true
   },
   "outputs": [],
   "source": [
    "import requests\n",
    "from openpyxl import Workbook\n",
    "from bs4 import BeautifulSoup"
   ]
  },
  {
   "cell_type": "code",
   "execution_count": 2,
   "outputs": [],
   "source": [
    "write_wb = Workbook()\n",
    "write_ws = write_wb.active"
   ],
   "metadata": {
    "collapsed": false
   }
  },
  {
   "cell_type": "code",
   "execution_count": 3,
   "outputs": [],
   "source": [
    "WANTED_BASE_URL = 'https://www.wanted.co.kr/wd/'\n",
    "\n",
    "\n",
    "def make_jd_urls(start_idx: int, end_idx: int):\n",
    "    jd_urls = []\n",
    "    for i in range(start_idx, end_idx):\n",
    "        jd_urls.append(f'{WANTED_BASE_URL}{i}')\n",
    "    return jd_urls\n",
    "\n",
    "\n",
    "jd_urls = make_jd_urls(1001, 47682)"
   ],
   "metadata": {
    "collapsed": false
   }
  },
  {
   "cell_type": "code",
   "execution_count": 4,
   "outputs": [],
   "source": [
    "# Make Head columns\n",
    "for alphabet, col in zip(['A1', 'B1', 'C1', 'D1'], ['회사명', '직무명', '유사직무', '채용내용']):\n",
    "    write_ws[alphabet] = col"
   ],
   "metadata": {
    "collapsed": false
   }
  },
  {
   "cell_type": "code",
   "execution_count": 5,
   "outputs": [],
   "source": [
    "jd_url = jd_urls[0]\n",
    "response = requests.get(jd_url)"
   ],
   "metadata": {
    "collapsed": false
   }
  },
  {
   "cell_type": "code",
   "execution_count": 6,
   "outputs": [],
   "source": [
    "html = response.text\n",
    "soup = str(BeautifulSoup(html, 'lxml'))"
   ],
   "metadata": {
    "collapsed": false
   }
  },
  {
   "cell_type": "code",
   "execution_count": 7,
   "outputs": [],
   "source": [
    "position = soup[soup.find('\"position\":\"') + 12 : soup.find('\"reward\":') - 2]\n",
    "similar_position = soup[soup.find('\"sub_categories\":') + 18 : soup.find('\"position\":\"') - 2]\n",
    "information = soup[soup.find('\"jd\":') + 5 : soup.find('\"company_name\":\"') - 2]\n",
    "company_name = soup[soup.find('\"company_name\":\"') + 16 : soup.find('\"lang\":\"') - 2]\n",
    "\n",
    "crawling_result = (company_name, position, similar_position, information)\n",
    "\n",
    "write_ws.append(crawling_result)"
   ],
   "metadata": {
    "collapsed": false
   }
  },
  {
   "cell_type": "code",
   "execution_count": 19,
   "outputs": [],
   "source": [
    "write_wb.save('wanted.csv')"
   ],
   "metadata": {
    "collapsed": false
   }
  },
  {
   "cell_type": "code",
   "execution_count": 8,
   "outputs": [
    {
     "data": {
      "text/plain": "('안드로이드 개발자', '\"Android Developer\",\"안드로이드 개발자\"', '사운들리')"
     },
     "execution_count": 8,
     "metadata": {},
     "output_type": "execute_result"
    }
   ],
   "source": [
    "position, similar_position, company_name"
   ],
   "metadata": {
    "collapsed": false
   }
  }
 ],
 "metadata": {
  "kernelspec": {
   "display_name": "Python 3",
   "language": "python",
   "name": "python3"
  },
  "language_info": {
   "codemirror_mode": {
    "name": "ipython",
    "version": 2
   },
   "file_extension": ".py",
   "mimetype": "text/x-python",
   "name": "python",
   "nbconvert_exporter": "python",
   "pygments_lexer": "ipython2",
   "version": "2.7.6"
  }
 },
 "nbformat": 4,
 "nbformat_minor": 0
}
